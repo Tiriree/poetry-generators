{
 "cells": [
  {
   "cell_type": "markdown",
   "metadata": {},
   "source": [
    "# Implementations of early and well-known poetry generators\n",
    "\n",
    "By [Allison Parrish](http://www.decontextualize.com/)\n",
    "\n",
    "Many well-known poetry generators, especially those from the beginning of the computational era, work by drawing randomly from a limited vocabulary of strings and composing those strings using straightforward string manipulation techniques (like concatenation, splitting, joining, indexing, etc.)\n",
    "Assignment: Create a poetry generator using these techniques. Use one of the generators implemented in [this](https://github.com/aparrish/rwet/blob/master/some-poetry-generators.ipynb) notebook as a starting point for your creation."
   ]
  },
  {
   "cell_type": "markdown",
   "metadata": {},
   "source": [
    "## From the - A House of Dust - Example\n",
    "\n",
    "Original written in Fortran in 1967 by Alison Knowles and James Tenney. [ELMCIP entry](https://elmcip.net/creative-work/house-dust). [More information](http://blog.calarts.edu/2009/09/10/alison-knowles-james-tenney-and-the-house-of-dust-at-calarts/). [Watch Alison Knowles read from this piece](https://www.youtube.com/watch?v=-68Z708lFsY)."
   ]
  },
  {
   "cell_type": "markdown",
   "metadata": {},
   "source": [
    "**Tiri's note** \n",
    "After research about Alison Knowles. I'm interrested in her \"[event score](http://www.aknowles.com/eventscore.html)\" work. \n",
    "\n",
    "\n",
    "***Event Scores***\n",
    "\n",
    "\n",
    "\n",
    "*Event Scores, involve simple actions, ideas, and objects from everyday life recontexualized as performance. Event Scores are texts that can be seen as proposal pieces or instructions for actions. The idea of the score suggests musicality. Like a musical score, Event Scores can be realized by artists other than the original creator and are open to variation and interpretation.*\n",
    "\n",
    "From that, I break down groups of words by \n",
    "* number of event score\n",
    "* name of event\n",
    "* object of name\n",
    "* subject\n",
    "* action(verb)\n",
    "* object\n",
    "* locations\n"
   ]
  },
  {
   "cell_type": "markdown",
   "metadata": {},
   "source": [
    "**Try running code down here!**"
   ]
  },
  {
   "cell_type": "code",
   "execution_count": 1,
   "metadata": {
    "collapsed": true
   },
   "outputs": [],
   "source": [
    "import random"
   ]
  },
  {
   "cell_type": "code",
   "execution_count": 2,
   "metadata": {
    "collapsed": true
   },
   "outputs": [],
   "source": [
    "numberevent = [\n",
    "    '1',\n",
    "    '2',\n",
    "    '3',\n",
    "    '4',\n",
    "    '5',\n",
    "    '6',\n",
    "    '7',\n",
    "    '8',\n",
    "    '9',\n",
    "    '10',\n",
    "    '11',\n",
    "    '12',\n",
    "    '13',\n",
    "    '14',\n",
    "    '15',\n",
    "    '16',\n",
    "    '17',\n",
    "    '18'\n",
    "]"
   ]
  },
  {
   "cell_type": "code",
   "execution_count": 3,
   "metadata": {
    "collapsed": true
   },
   "outputs": [],
   "source": [
    "alphabetevent = [\n",
    "    ' ',\n",
    "    'a',\n",
    "    'b'\n",
    "]"
   ]
  },
  {
   "cell_type": "code",
   "execution_count": 4,
   "metadata": {
    "collapsed": true
   },
   "outputs": [],
   "source": [
    "names = [\n",
    "    'trader joes',\n",
    "    'flower market',\n",
    "    'homework',\n",
    "    'color',\n",
    "    'music',\n",
    "    'Tiri',\n",
    "    'ITP',\n",
    "    'something',\n",
    "    'everything',\n",
    "    'nothing'\n",
    "]"
   ]
  },
  {
   "cell_type": "code",
   "execution_count": 5,
   "metadata": {
    "collapsed": true
   },
   "outputs": [],
   "source": [
    "nameobject = [\n",
    "    'for Allison',\n",
    "    'of your choice',\n",
    "    ' ',\n",
    "    'for Any Number of Vocalists',\n",
    "    'for Any Number of Musicians',\n",
    "    'for Tiri',\n",
    "    'for lovers'\n",
    "    \n",
    "]"
   ]
  },
  {
   "cell_type": "code",
   "execution_count": 6,
   "metadata": {
    "collapsed": true
   },
   "outputs": [],
   "source": [
    "subjects = [\n",
    "    'performer',\n",
    "    'performers',\n",
    "    'A member of the audience',\n",
    "    ' '\n",
    "]"
   ]
  },
  {
   "cell_type": "code",
   "execution_count": 7,
   "metadata": {
    "collapsed": true
   },
   "outputs": [],
   "source": [
    "actions = [\n",
    "    'do',\n",
    "    'buy',\n",
    "    'roll',\n",
    "    'mirror',\n",
    "    'grab',\n",
    "    'paint',\n",
    "    'look at',\n",
    "    'eat',\n",
    "    'sing',\n",
    "    'smell'\n",
    "]"
   ]
  },
  {
   "cell_type": "code",
   "execution_count": 8,
   "metadata": {
    "collapsed": true
   },
   "outputs": [],
   "source": [
    "objects = [\n",
    "    'homework',\n",
    "    'each other',\n",
    "    'collectors of all types',\n",
    "    'roses',\n",
    "    'friends',\n",
    "    'lovers',\n",
    "    'paper',\n",
    "    'jam',\n",
    "    'color',\n",
    "    'song'\n",
    "]"
   ]
  },
  {
   "cell_type": "code",
   "execution_count": 9,
   "metadata": {
    "collapsed": true
   },
   "outputs": [],
   "source": [
    "locations = [\n",
    "    'at ITP',\n",
    "    'at flower market',\n",
    "    'at trader joes',\n",
    "    'on the floor',\n",
    "    'on the street',\n",
    "    'at Allison office',\n",
    "    'on the chair',\n",
    "    'on your body',\n",
    "    'on your friends hand',\n",
    "    'at home'\n",
    "]"
   ]
  },
  {
   "cell_type": "code",
   "execution_count": 10,
   "metadata": {
    "collapsed": true
   },
   "outputs": [],
   "source": [
    "lastthings = [\n",
    "    'for Tiri',\n",
    "    'until you become it',\n",
    "    'for Allison',\n",
    "    'dont forget to breathe',\n",
    "    '...',\n",
    "    '<3',\n",
    "    ':)',\n",
    "    'dont forget to smile'\n",
    "]"
   ]
  },
  {
   "cell_type": "code",
   "execution_count": 42,
   "metadata": {
    "scrolled": false
   },
   "outputs": [
    {
     "name": "stdout",
     "output_type": "stream",
     "text": [
      "\n",
      " #7a--\n",
      "\n",
      "homework  \n",
      "\n",
      "A member of the audience eat jam on the floor\n",
      "and..\n",
      "\n",
      "\n",
      "until you become it\n"
     ]
    }
   ],
   "source": [
    "stanza_count = 1\n",
    "for i in range(stanza_count):\n",
    "    print()\n",
    "    print(\" #\" + random.choice(numberevent) + random.choice(alphabetevent) + \"--\")\n",
    "    print()\n",
    "    print(random.choice(names) + \" \" + random.choice(nameobject))\n",
    "    print()\n",
    "    print(random.choice(subjects) +  \" \" + random.choice(actions) + \" \" + random.choice(objects) + \" \" + random.choice(locations))\n",
    "    print(\"and..\")\n",
    "    print()\n",
    "    print()\n",
    "    print(random.choice(lastthings))\n",
    "    "
   ]
  },
  {
   "cell_type": "markdown",
   "metadata": {},
   "source": [
    "here's some sample output:\n",
    "\n",
    "     #10a--\n",
    "\n",
    "    trader joes for Any Number of Vocalists\n",
    "\n",
    "    performers grab jam at Allison office\n",
    "    and..\n",
    "\n",
    "\n",
    "    for Tiri\n",
    "    \n",
    "    \n",
    "    \n",
    "    \n",
    "    \n",
    "    #1a--\n",
    "\n",
    "    homework for Tiri\n",
    "\n",
    "    performers roll song at ITP\n",
    "    and..\n",
    "\n",
    "\n",
    "    until you become it\n",
    "    \n",
    "    \n",
    "    \n",
    "    \n",
    "    #10a--\n",
    "\n",
    "    Tiri for Allison\n",
    "\n",
    "      smell song at ITP\n",
    "    and..\n",
    "\n",
    "\n",
    "    <3\n",
    "\n",
    "    \n",
    "    \n",
    "    \n",
    "     #8b--\n",
    "\n",
    "    something  \n",
    "\n",
    "      sing each other on your body\n",
    "    and..\n",
    "\n",
    "\n",
    "    until you become it"
   ]
  },
  {
   "cell_type": "code",
   "execution_count": null,
   "metadata": {
    "collapsed": true
   },
   "outputs": [],
   "source": []
  }
 ],
 "metadata": {
  "kernelspec": {
   "display_name": "Python 3",
   "language": "python",
   "name": "python3"
  },
  "language_info": {
   "codemirror_mode": {
    "name": "ipython",
    "version": 3
   },
   "file_extension": ".py",
   "mimetype": "text/x-python",
   "name": "python",
   "nbconvert_exporter": "python",
   "pygments_lexer": "ipython3",
   "version": "3.6.3"
  }
 },
 "nbformat": 4,
 "nbformat_minor": 2
}
