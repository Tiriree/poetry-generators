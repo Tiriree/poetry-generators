{
 "cells": [
  {
   "cell_type": "markdown",
   "metadata": {},
   "source": [
    "I tried to do this homework as a part of my thesis but it didn't go well. I feel so sad and sorry for sending this assignment late.\n",
    "Since I sent this homework so late, I made 3 more homeworks"
   ]
  },
  {
   "cell_type": "markdown",
   "metadata": {},
   "source": [
    "**bot to created kaomoji**\n",
    "Why Kaomoji?\n",
    "- My idea is to create feeling poetry, Instead of using emoji. I tried to find characters in other languages."
   ]
  },
  {
   "cell_type": "code",
   "execution_count": 1,
   "metadata": {
    "collapsed": true
   },
   "outputs": [],
   "source": [
    "import tracery"
   ]
  },
  {
   "cell_type": "code",
   "execution_count": 2,
   "metadata": {
    "collapsed": true
   },
   "outputs": [],
   "source": [
    "from tracery.modifiers import base_english"
   ]
  },
  {
   "cell_type": "code",
   "execution_count": 3,
   "metadata": {
    "scrolled": true
   },
   "outputs": [
    {
     "name": "stdout",
     "output_type": "stream",
     "text": [
      " ´ᴗ´•)\n",
      "✿*◔꒵´cノ*♡*\n",
      "(´っ´•*)\n",
      "(◍◠・♥●)\n",
      "ʕᅌ꒵´≦\n",
      "(♥◡っ´•+✿.*\n",
      "(◕◡⁰*)\n",
      "♡◕ω◕灬)\n",
      "(つ♥꒵ᅌ♡\n",
      "(つ´•○ㆁʔ\n"
     ]
    }
   ],
   "source": [
    "rules = {\n",
    "    \"cutekaomoji\": \"#faceleft##eye##mouth##eye##faceR#\",\n",
    "    \"faceleft\": [\"#hand#\", \"#faceL#\", \"#faceL#\"],\n",
    "    \"hand\": [\"<\", \"٩\", \"╰\",\"✿*\"],\n",
    "    \"faceL\": [\"(\", \" \", \"(✿\", \"(♥\", \"♡\", \"(๑\", \"(´\",\"(つ\",\"(●\",\"(*\",\"(灬\",\"(◍\",\"≧\",\"ʕ\"],\n",
    "    \"eye\": [\"´\", \"♥\", \"°\", \"´･\", \"´•\", \"´c\", \"●\", \"◕\",\n",
    "             \"◡\", \"◠\", \"ㆁ\", \"ᅌ\", \"╹\", \"⁰\", \"❛\", \"◔\", \"♛\"],\n",
    "    \"mouth\": [\"・\", \"‿\", \"ω\", \"○\",\"꒵\",\"ᴗ\",\"Д\",\"ｖ\",\"っ\",\"ᴥ\",\"◡\",\"๘\"],\n",
    "    \"faceR\": [\")\", \" \", \"*)\", \")∿\", \"♡\", \"♥)\", \"*)\",\"●)\",\"๑)\",\"灬)\",\"◍)\",\"+✿.*\",\"ノ*♡*\",\"≦\",\"ʔ\"],\n",
    "}\n",
    "grammar = tracery.Grammar(rules)\n",
    "grammar.add_modifiers(base_english)\n",
    "for i in range(10):\n",
    "    print(grammar.flatten(\"#cutekaomoji#\"))"
   ]
  },
  {
   "cell_type": "markdown",
   "metadata": {},
   "source": [
    "**bot generate feeling**"
   ]
  },
  {
   "cell_type": "code",
   "execution_count": 6,
   "metadata": {},
   "outputs": [
    {
     "ename": "SyntaxError",
     "evalue": "invalid syntax (<ipython-input-6-855783cd12ec>, line 9)",
     "output_type": "error",
     "traceback": [
      "\u001b[0;36m  File \u001b[0;32m\"<ipython-input-6-855783cd12ec>\"\u001b[0;36m, line \u001b[0;32m9\u001b[0m\n\u001b[0;31m    \"st\": [\"<br><img src='#url#' width='220'><br>\"],\u001b[0m\n\u001b[0m        ^\u001b[0m\n\u001b[0;31mSyntaxError\u001b[0m\u001b[0;31m:\u001b[0m invalid syntax\n"
     ]
    }
   ],
   "source": [
    "rules2 = {\n",
    "    \"url\": [\n",
    "\t\t\"https://giphy.com/gifs/qmfpjpAT2fJRK/html5\",\n",
    "\t\t\"https://giphy.com/gifs/B4ORVnBvJCVvq/html5\",\n",
    "\t\t\"https://giphy.com/gifs/Xo2lUMGfBgf9C/html5\",\n",
    "\t\t\"https://giphy.com/gifs/jlzdW8NhykKnm/html5\",\n",
    "\t\t\"https://giphy.com/gifs/LRMRtUr1zeYnu/html5\",\n",
    "\t\t\"https://giphy.com/gifs/11MaSmjZDwnzSU/html5\",\n",
    "    \"st\": [\"<br><img src='#url#' width='220'><br>\"],\n",
    "    \"origin\": [\"<h3>How I feel before file taxes:#st#How I feel after file taxes#st#. How the world feel about taxes:#st#</h3>\"]\n",
    "}\n",
    "grammar = tracery.Grammar(rules2)\n",
    "grammar.add_modifiers(base_english)\n",
    "for i in range(1):\n",
    "    print(grammar.flatten(\"#origin#\"))"
   ]
  }
 ],
 "metadata": {
  "kernelspec": {
   "display_name": "Python 3",
   "language": "python",
   "name": "python3"
  },
  "language_info": {
   "codemirror_mode": {
    "name": "ipython",
    "version": 3
   },
   "file_extension": ".py",
   "mimetype": "text/x-python",
   "name": "python",
   "nbconvert_exporter": "python",
   "pygments_lexer": "ipython3",
   "version": "3.6.3"
  }
 },
 "nbformat": 4,
 "nbformat_minor": 2
}
