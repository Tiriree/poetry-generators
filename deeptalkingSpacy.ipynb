{
 "cells": [
  {
   "cell_type": "code",
   "execution_count": 1,
   "metadata": {},
   "outputs": [
    {
     "data": {
      "text/plain": [
       "5.0990195135927845"
      ]
     },
     "execution_count": 1,
     "metadata": {},
     "output_type": "execute_result"
    }
   ],
   "source": [
    "import math\n",
    "def distance(coord1, coord2):\n",
    "    # note, this is VERY SLOW, don't use for actual code\n",
    "    return math.sqrt(sum([(i - j)**2 for i, j in zip(coord1, coord2)]))\n",
    "distance([10, 1], [5, 2])"
   ]
  },
  {
   "cell_type": "code",
   "execution_count": 2,
   "metadata": {},
   "outputs": [
    {
     "data": {
      "text/plain": [
       "[5, -1]"
      ]
     },
     "execution_count": 2,
     "metadata": {},
     "output_type": "execute_result"
    }
   ],
   "source": [
    "def subtractv(coord1, coord2):\n",
    "    return [c1 - c2 for c1, c2 in zip(coord1, coord2)]\n",
    "subtractv([10, 1], [5, 2])"
   ]
  },
  {
   "cell_type": "code",
   "execution_count": 3,
   "metadata": {},
   "outputs": [
    {
     "data": {
      "text/plain": [
       "[15, 3]"
      ]
     },
     "execution_count": 3,
     "metadata": {},
     "output_type": "execute_result"
    }
   ],
   "source": [
    "def addv(coord1, coord2):\n",
    "    return [c1 + c2 for c1, c2 in zip(coord1, coord2)]\n",
    "addv([10, 1], [5, 2])"
   ]
  },
  {
   "cell_type": "code",
   "execution_count": 4,
   "metadata": {},
   "outputs": [
    {
     "data": {
      "text/plain": [
       "[2.0, 2.0]"
      ]
     },
     "execution_count": 4,
     "metadata": {},
     "output_type": "execute_result"
    }
   ],
   "source": [
    "def meanv(coords):\n",
    "    # assumes every item in coords has same length as item 0\n",
    "    sumv = [0] * len(coords[0])\n",
    "    for item in coords:\n",
    "        for i in range(len(item)):\n",
    "            sumv[i] += item[i]\n",
    "    mean = [0] * len(sumv)\n",
    "    for i in range(len(sumv)):\n",
    "        mean[i] = float(sumv[i]) / len(coords)\n",
    "    return mean\n",
    "meanv([[0, 1], [2, 2], [4, 3]])"
   ]
  },
  {
   "cell_type": "code",
   "execution_count": 5,
   "metadata": {
    "collapsed": true
   },
   "outputs": [],
   "source": [
    "import spacy"
   ]
  },
  {
   "cell_type": "code",
   "execution_count": 6,
   "metadata": {
    "collapsed": true
   },
   "outputs": [],
   "source": [
    "nlp = spacy.load('en_core_web_md')\n",
    "doc = nlp(open(\"phantomoftheOpera.txt\").read())"
   ]
  },
  {
   "cell_type": "code",
   "execution_count": 7,
   "metadata": {
    "collapsed": true
   },
   "outputs": [],
   "source": [
    "tokens = list(set([w.text for w in doc if w.is_alpha]))"
   ]
  },
  {
   "cell_type": "code",
   "execution_count": 8,
   "metadata": {},
   "outputs": [
    {
     "data": {
      "text/plain": [
       "array([ -5.99079989e-02,   2.44029999e-01,   7.45469984e-03,\n",
       "         1.11400001e-01,  -2.41100006e-02,  -5.73790014e-01,\n",
       "        -1.05140001e-01,   5.90129972e-01,  -1.39939994e-01,\n",
       "         1.26289999e+00,  -2.76989996e-01,  -1.54420003e-01,\n",
       "        -6.08410016e-02,  -2.34720007e-01,  -8.38249996e-02,\n",
       "         2.54850000e-01,  -4.48749989e-01,   1.10749996e+00,\n",
       "        -1.76760003e-01,  -4.23879996e-02,   3.51099998e-01,\n",
       "        -1.27189994e-01,  -4.82290000e-01,   3.62760007e-01,\n",
       "        -2.51920015e-01,  -6.85050013e-03,  -1.77100003e-01,\n",
       "         2.03199998e-01,   2.54229993e-01,   8.75379983e-03,\n",
       "         1.03699997e-01,   3.44779998e-01,  -9.28910002e-02,\n",
       "         2.38769993e-01,   3.75099987e-01,   1.35830000e-01,\n",
       "        -4.82620001e-01,  -5.40790021e-01,  -9.68480036e-02,\n",
       "        -2.16739997e-01,   2.47429997e-01,   1.72059998e-01,\n",
       "         1.58779994e-01,  -3.28410000e-01,   1.06540002e-01,\n",
       "        -6.75249994e-02,   4.22739983e-02,  -3.28429997e-01,\n",
       "         1.76640004e-01,  -5.17740011e-01,  -6.20890021e-01,\n",
       "        -3.23739983e-02,  -2.24800006e-01,  -1.24459997e-01,\n",
       "        -2.60360003e-01,  -1.58789996e-02,   7.49569982e-02,\n",
       "         5.47980011e-01,  -4.96639997e-01,   1.01779997e-01,\n",
       "        -1.14280000e-01,  -4.28090006e-01,  -4.93290007e-01,\n",
       "        -8.13419998e-01,   1.03579998e-01,  -4.11469996e-01,\n",
       "        -6.71190023e-02,  -1.69689998e-01,  -5.13429999e-01,\n",
       "        -5.60760021e-01,  -1.73629999e-01,   8.24460015e-02,\n",
       "        -8.04229975e-01,   3.13259996e-02,  -4.51020002e-01,\n",
       "         2.94169992e-01,  -3.24209988e-01,   1.08280003e-01,\n",
       "        -1.60009995e-01,   2.97039986e-01,  -1.80329993e-01,\n",
       "         6.13020003e-01,  -2.64180005e-01,   4.85269994e-01,\n",
       "         1.75799996e-01,  -9.39899981e-02,   1.32860005e+00,\n",
       "        -2.75119990e-01,  -6.46679997e-01,  -4.71879989e-01,\n",
       "         5.52820027e-01,  -3.40099990e-01,   3.53810005e-02,\n",
       "        -7.75269985e-01,   2.58540004e-01,   1.87779993e-01,\n",
       "        -9.95360017e-02,  -4.63129997e-01,  -1.13279998e-01,\n",
       "         7.78469965e-02,  -1.39029995e-01,   3.85179996e-01,\n",
       "        -8.40030015e-02,   2.32669994e-01,  -3.49570006e-01,\n",
       "        -1.73850000e-01,  -3.19359988e-01,  -4.58310008e-01,\n",
       "         1.65309999e-02,   1.25799999e-01,  -1.00290000e-01,\n",
       "         1.35480002e-01,  -7.86829963e-02,  -6.01840019e-01,\n",
       "         7.67520010e-01,   1.17409997e-01,   4.51050013e-01,\n",
       "         9.91320014e-02,   1.62499994e-01,  -1.07390001e-01,\n",
       "        -3.99980009e-01,  -2.73360014e-01,   5.24909973e-01,\n",
       "         7.38839984e-01,   2.11390004e-01,  -1.67370006e-01,\n",
       "        -6.99440017e-02,  -1.09920003e-01,  -1.80360004e-02,\n",
       "        -1.34399995e-01,  -2.53529996e-01,  -1.28629997e-01,\n",
       "         3.21049988e-01,  -3.82070011e-03,   7.08779991e-02,\n",
       "        -3.06609988e-01,  -2.85459995e-01,  -2.24840008e-02,\n",
       "         1.61829993e-01,   1.01499997e-01,  -2.99280000e+00,\n",
       "        -1.18680000e-01,  -1.40609995e-01,  -1.77190006e-02,\n",
       "        -6.49380028e-01,  -2.06039995e-01,   2.63170004e-01,\n",
       "         2.09900007e-01,  -5.66290021e-01,  -2.42430001e-01,\n",
       "         2.34540001e-01,  -6.10000014e-01,  -1.31259993e-01,\n",
       "        -6.39960021e-02,   9.25929993e-02,  -1.65570006e-01,\n",
       "        -3.70050013e-01,  -7.27569975e-04,  -5.75219989e-01,\n",
       "        -2.99169987e-01,   5.01269996e-01,  -1.92359999e-01,\n",
       "        -7.12549984e-01,  -9.38589964e-03,   4.38820004e-01,\n",
       "        -2.84799993e-01,   1.55169994e-01,  -4.27460000e-02,\n",
       "        -1.94680005e-01,   3.32340002e-01,   2.07880005e-01,\n",
       "         7.07769990e-02,   7.23029971e-01,   1.22089997e-01,\n",
       "         2.38820001e-01,  -7.76779978e-03,   2.96979994e-01,\n",
       "        -9.00209993e-02,  -2.57770002e-01,  -2.82710008e-02,\n",
       "        -2.93139994e-01,   9.33350027e-02,   3.48740011e-01,\n",
       "        -2.99199998e-01,  -1.28700003e-01,  -1.23029999e-01,\n",
       "        -3.29769999e-01,   4.98620003e-01,   1.35729998e-01,\n",
       "        -3.24180007e-01,  -3.23240012e-01,   3.57010007e-01,\n",
       "        -1.42279997e-01,  -8.34880024e-02,  -3.52730006e-01,\n",
       "        -5.63570023e-01,   4.36509997e-01,   1.82260007e-01,\n",
       "         1.44810006e-01,   3.57419997e-01,  -5.59589982e-01,\n",
       "         9.44710001e-02,  -1.13389999e-01,   1.05959997e-01,\n",
       "         5.80059998e-02,  -1.12530001e-01,   6.84989989e-01,\n",
       "         4.75450009e-02,  -4.15939987e-01,   2.80600011e-01,\n",
       "        -2.71120012e-01,  -6.17219992e-02,  -5.06879985e-02,\n",
       "        -6.19090023e-03,   1.76960006e-02,  -2.87570000e-01,\n",
       "        -3.48360002e-01,  -1.28169999e-01,  -3.76380011e-02,\n",
       "         1.48809999e-01,   1.93039998e-01,  -2.98909992e-01,\n",
       "         2.03879997e-02,   7.46370018e-01,   1.24690004e-01,\n",
       "         1.81720003e-01,  -5.49300015e-02,   1.41619995e-01,\n",
       "         2.05349997e-02,  -2.23289996e-01,   6.01480007e-02,\n",
       "        -1.73240006e-01,  -6.78279996e-01,   1.63790002e-01,\n",
       "         2.34290004e-01,  -5.94780028e-01,   2.28220001e-02,\n",
       "        -3.93350005e-01,  -4.71130013e-01,  -1.02250004e+00,\n",
       "        -4.23839986e-01,   2.83279985e-01,   2.37749994e-01,\n",
       "         1.68770000e-01,   4.84939992e-01,   6.87480019e-03,\n",
       "        -8.54550004e-02,   1.80149991e-02,   3.02679986e-01,\n",
       "        -1.02550000e-01,   2.29149997e-01,  -2.19229996e-01,\n",
       "         3.13430011e-01,   3.52450013e-01,   2.62560010e-01,\n",
       "        -1.79169998e-01,  -2.05929995e-01,  -2.18390003e-01,\n",
       "        -3.18910003e-01,   4.18680012e-01,   3.19840014e-01,\n",
       "        -6.23379983e-02,   1.03010004e-02,  -5.06810009e-01,\n",
       "         1.57539994e-02,  -2.03889996e-01,   2.28190005e-01,\n",
       "        -1.77289993e-01,  -3.96259993e-01,  -1.22900002e-01,\n",
       "        -4.54389989e-01,   9.57579985e-02,   1.78650007e-01,\n",
       "         8.23140025e-01,  -1.45649999e-01,   1.52340000e-02,\n",
       "        -7.40310028e-02,  -3.22800010e-01,   1.75530002e-01,\n",
       "        -7.93490000e-03,   3.97340000e-01,  -2.01719999e-01,\n",
       "         6.15079999e-01,  -5.24940014e-01,   1.74569994e-01,\n",
       "         3.30009997e-01,   1.88930005e-01,   4.27949995e-01,\n",
       "         1.05990000e-01,  -5.80829978e-01,  -5.04010022e-01,\n",
       "        -9.24499985e-03,   1.73350006e-01,   9.21069980e-02,\n",
       "        -4.59450006e-01,  -2.41029993e-01,  -1.87619999e-02,\n",
       "         7.48350024e-02,   3.39060009e-01,  -1.32860005e-01], dtype=float32)"
      ]
     },
     "execution_count": 8,
     "metadata": {},
     "output_type": "execute_result"
    }
   ],
   "source": [
    "nlp.vocab['angel'].vector"
   ]
  },
  {
   "cell_type": "code",
   "execution_count": 9,
   "metadata": {
    "collapsed": true
   },
   "outputs": [],
   "source": [
    "def vec(s):\n",
    "    return nlp.vocab[s].vector"
   ]
  },
  {
   "cell_type": "code",
   "execution_count": 10,
   "metadata": {
    "collapsed": true
   },
   "outputs": [],
   "source": [
    "import numpy as np\n",
    "from numpy import dot\n",
    "from numpy.linalg import norm\n",
    "\n",
    "# cosine similarity\n",
    "def cosine(v1, v2):\n",
    "    if norm(v1) > 0 and norm(v2) > 0:\n",
    "        return dot(v1, v2) / (norm(v1) * norm(v2))\n",
    "    else:\n",
    "        return 0.0"
   ]
  },
  {
   "cell_type": "code",
   "execution_count": 11,
   "metadata": {
    "collapsed": true
   },
   "outputs": [],
   "source": [
    "def spacy_closest(token_list, vec_to_check, n=10):\n",
    "    return sorted(token_list,\n",
    "                  key=lambda x: cosine(vec_to_check, vec(x)),\n",
    "                  reverse=True)[:n]"
   ]
  },
  {
   "cell_type": "code",
   "execution_count": 12,
   "metadata": {},
   "outputs": [
    {
     "data": {
      "text/plain": [
       "['Music',\n",
       " 'music',\n",
       " 'songs',\n",
       " 'song',\n",
       " 'musical',\n",
       " 'Dance',\n",
       " 'dance',\n",
       " 'dancers',\n",
       " 'DANCERS',\n",
       " 'listen']"
      ]
     },
     "execution_count": 12,
     "metadata": {},
     "output_type": "execute_result"
    }
   ],
   "source": [
    "spacy_closest(tokens, vec(\"music\"))"
   ]
  },
  {
   "cell_type": "code",
   "execution_count": 13,
   "metadata": {},
   "outputs": [
    {
     "data": {
      "text/plain": [
       "['human',\n",
       " 'evil',\n",
       " 'normal',\n",
       " 'brain',\n",
       " 'kill',\n",
       " 'world',\n",
       " 'mind',\n",
       " 'that',\n",
       " 'That',\n",
       " 'sense']"
      ]
     },
     "execution_count": 13,
     "metadata": {},
     "output_type": "execute_result"
    }
   ],
   "source": [
    "spacy_closest(tokens, meanv([vec(\"human\"), vec(\"bot\")]))"
   ]
  },
  {
   "cell_type": "code",
   "execution_count": 14,
   "metadata": {},
   "outputs": [
    {
     "data": {
      "text/plain": [
       "['Music',\n",
       " 'music',\n",
       " 'songs',\n",
       " 'song',\n",
       " 'musical',\n",
       " 'Dance',\n",
       " 'dance',\n",
       " 'dancers',\n",
       " 'DANCERS',\n",
       " 'listen']"
      ]
     },
     "execution_count": 14,
     "metadata": {},
     "output_type": "execute_result"
    }
   ],
   "source": [
    "spacy_closest(tokens, vec(\"music\"))"
   ]
  },
  {
   "cell_type": "code",
   "execution_count": 15,
   "metadata": {},
   "outputs": [
    {
     "data": {
      "text/plain": [
       "['human',\n",
       " 'nature',\n",
       " 'brain',\n",
       " 'life',\n",
       " 'sense',\n",
       " 'world',\n",
       " 'lives',\n",
       " 'presence',\n",
       " 'BEYOND',\n",
       " 'beyond']"
      ]
     },
     "execution_count": 15,
     "metadata": {},
     "output_type": "execute_result"
    }
   ],
   "source": [
    "spacy_closest(tokens, vec(\"human\"))"
   ]
  },
  {
   "cell_type": "code",
   "execution_count": 16,
   "metadata": {},
   "outputs": [
    {
     "data": {
      "text/plain": [
       "['sir',\n",
       " 'Oh',\n",
       " 'dear',\n",
       " 'Dear',\n",
       " 'I',\n",
       " 'sorry',\n",
       " 'Haha',\n",
       " 'cheers',\n",
       " 'applause',\n",
       " 'Applause']"
      ]
     },
     "execution_count": 16,
     "metadata": {},
     "output_type": "execute_result"
    }
   ],
   "source": [
    "spacy_closest(tokens, vec(\"hi\"))"
   ]
  },
  {
   "cell_type": "code",
   "execution_count": 27,
   "metadata": {},
   "outputs": [
    {
     "data": {
      "text/plain": [
       "['piecing',\n",
       " 'mechanical',\n",
       " 'hand',\n",
       " 'HAND',\n",
       " 'spinning',\n",
       " 'operating',\n",
       " 'cutting',\n",
       " 'running',\n",
       " 'electric',\n",
       " 'method']"
      ]
     },
     "execution_count": 27,
     "metadata": {},
     "output_type": "execute_result"
    }
   ],
   "source": [
    "spacy_closest(tokens, vec(\"machine\"))"
   ]
  },
  {
   "cell_type": "code",
   "execution_count": 28,
   "metadata": {},
   "outputs": [
    {
     "data": {
      "text/plain": [
       "['piecing',\n",
       " 'spinning',\n",
       " 'pipe',\n",
       " 'fitted',\n",
       " 'instructions',\n",
       " 'retainer',\n",
       " 'BOX',\n",
       " 'Box',\n",
       " 'box',\n",
       " 'gavel']"
      ]
     },
     "execution_count": 28,
     "metadata": {},
     "output_type": "execute_result"
    }
   ],
   "source": [
    "spacy_closest(tokens, subtractv(vec(\"machine\"), vec(\"human\")))"
   ]
  },
  {
   "cell_type": "code",
   "execution_count": 19,
   "metadata": {},
   "outputs": [
    {
     "data": {
      "text/plain": [
       "['human',\n",
       " 'angel',\n",
       " 'Angel',\n",
       " 'Heaven',\n",
       " 'heaven',\n",
       " 'evil',\n",
       " 'God',\n",
       " 'soul',\n",
       " 'demon',\n",
       " 'eyes']"
      ]
     },
     "execution_count": 19,
     "metadata": {},
     "output_type": "execute_result"
    }
   ],
   "source": [
    "spacy_closest(tokens, addv(vec(\"angel\"), vec(\"human\")))"
   ]
  },
  {
   "cell_type": "markdown",
   "metadata": {
    "collapsed": true
   },
   "source": [
    "**making deepscription**"
   ]
  },
  {
   "cell_type": "code",
   "execution_count": 20,
   "metadata": {
    "collapsed": true
   },
   "outputs": [],
   "source": [
    "def sentvec(s):\n",
    "    sent = nlp(s)\n",
    "    return meanv([w.vector for w in sent])"
   ]
  },
  {
   "cell_type": "code",
   "execution_count": 21,
   "metadata": {},
   "outputs": [],
   "source": [
    "sentences = list(doc.sents)"
   ]
  },
  {
   "cell_type": "code",
   "execution_count": 22,
   "metadata": {
    "collapsed": true
   },
   "outputs": [],
   "source": [
    "def spacy_closest_sent(space, input_str, n=10):\n",
    "    input_vec = sentvec(input_str)\n",
    "    return sorted(space,\n",
    "                  key=lambda x: cosine(np.mean([w.vector for w in x], axis=0), input_vec),\n",
    "                  reverse=True)[:n]"
   ]
  },
  {
   "cell_type": "code",
   "execution_count": 31,
   "metadata": {},
   "outputs": [
    {
     "name": "stdout",
     "output_type": "stream",
     "text": [
      "And my managers\n",
      "must learn\n",
      "that their place is in\n",
      "an office, not the arts.\n",
      "\n",
      "\n",
      "---\n",
      "If you could, find out which\n",
      "has a sense of pitch -\n",
      "wisely, though,\n",
      "I've managed to assign a\n",
      "rather minor role to those\n",
      "who cannot act! \"\n",
      "\n",
      "\n",
      "---\n",
      "If these demands are not\n",
      "met, a disaster beyond your imagination will occur!\n",
      "\n",
      "\n",
      "---\n",
      "He merely welcomes you to his opera house and\n",
      "commands you to continue to leave Box Five empty for\n",
      "his use and reminds you that his salary is due.\n",
      "\n",
      "\n",
      "---\n",
      "Come we must return -\n",
      "those two fools\n",
      "who run my theatre\n",
      "will be missing you.\n",
      "\n",
      "\n",
      "---\n",
      "Be prepared\n",
      "for a great misfortune,\n",
      "should you attempt\n",
      "to take her place.\"\n",
      "\n",
      "\n",
      "---\n",
      "\"Gentlemen, I have now sent you several notes of the\n",
      "most amiable nature, detailing how my theatre is to be\n",
      "run.\n",
      "---\n",
      "Should\n",
      "these commands be ignored, a disaster beyond your\n",
      "imagination will occur.\n",
      "\n",
      "\n",
      "---\n",
      "But too\n",
      "many of her partners seem to be replicas of the\n",
      "PHANTOM, and each spins her with increasing force.\n",
      "\n",
      "---\n",
      "Our workshops have\n",
      "restored it and fitted up parts of it with wiring\n",
      "for the new electric light, so that we may get a\n",
      "hint of what it may look like when re-\n",
      "assembled.\n",
      "---\n"
     ]
    }
   ],
   "source": [
    "for sent in spacy_closest_sent(sentences, \"Can technology be trained to deliberately commit mistakes in order to help spark creative improvisation in performers and artists?\"):\n",
    "    print(sent.text)\n",
    "    print(\"---\")"
   ]
  },
  {
   "cell_type": "markdown",
   "metadata": {},
   "source": [
    "## result \n",
    "\n",
    "**Can technology be trained to deliberately commit mistakes in order to help spark creative improvisation in performers and artists?**\n",
    "\n",
    "        And my managers\n",
    "        must learn\n",
    "        that their place is in\n",
    "        an office, not the arts.\n",
    "\n",
    "\n",
    "        ---\n",
    "        If you could, find out which\n",
    "        has a sense of pitch -\n",
    "        wisely, though,\n",
    "        I've managed to assign a\n",
    "        rather minor role to those\n",
    "        who cannot act! \"\n",
    "\n",
    "\n",
    "        ---\n",
    "        If these demands are not\n",
    "        met, a disaster beyond your imagination will occur!\n",
    "\n",
    "\n",
    "        ---\n",
    "        He merely welcomes you to his opera house and\n",
    "        commands you to continue to leave Box Five empty for\n",
    "        his use and reminds you that his salary is due.\n",
    "\n",
    "\n",
    "        ---\n",
    "        Come we must return -\n",
    "        those two fools\n",
    "        who run my theatre\n",
    "        will be missing you.\n",
    "\n",
    "\n",
    "        ---\n",
    "        Be prepared\n",
    "        for a great misfortune,\n",
    "        should you attempt\n",
    "        to take her place.\"\n",
    "\n",
    "\n",
    "        ---\n",
    "        \"Gentlemen, I have now sent you several notes of the\n",
    "        most amiable nature, detailing how my theatre is to be\n",
    "        run.\n",
    "        ---\n",
    "        Should\n",
    "        these commands be ignored, a disaster beyond your\n",
    "        imagination will occur.\n",
    "\n",
    "\n",
    "        ---\n",
    "        But too\n",
    "        many of her partners seem to be replicas of the\n",
    "        PHANTOM, and each spins her with increasing force.\n",
    "\n",
    "        ---\n",
    "        Our workshops have\n",
    "        restored it and fitted up parts of it with wiring\n",
    "        for the new electric light, so that we may get a\n",
    "        hint of what it may look like when re-\n",
    "        assembled.\n",
    "        ---\n",
    "\n",
    "\n",
    "**I am a broken English speaker, I found that the way I speak makes everyone (human or/and machine) misunderstand my mind and create other meanings of the conversation. Those things for me are fascinating**\n",
    "\n",
    "\n",
    "        We never said\n",
    "        our love\n",
    "        was evergreen,\n",
    "        or as unchanging\n",
    "        as the sea -\n",
    "        but if\n",
    "        you can still\n",
    "        remember\n",
    "        stop and think\n",
    "        of me . . .\n",
    "\n",
    "\n",
    "        ---\n",
    "        \"Gentlemen, I have now sent you several notes of the\n",
    "        most amiable nature, detailing how my theatre is to be\n",
    "        run.\n",
    "        ---\n",
    "        We never said\n",
    "        our love\n",
    "        was evergreen,\n",
    "        or as unchanging\n",
    "        as the sea -\n",
    "        but please\n",
    "        promise me,\n",
    "        that sometimes\n",
    "        you will think\n",
    "        of me!\n",
    "\n",
    "\n",
    "        ---\n",
    "        If you could, find out which\n",
    "        has a sense of pitch -\n",
    "        wisely, though,\n",
    "        I've managed to assign a\n",
    "        rather minor role to those\n",
    "        who cannot act! \"\n",
    "\n",
    "\n",
    "        ---\n",
    "        I\n",
    "        can now tell you that these were all true and\n",
    "        it is my pleasure to introduce to you the\n",
    "        two gentlemen who now own the Opera\n",
    "        Populaire, M. Richard Firmin and M.\n",
    "        Gilles Andre.\n",
    "\n",
    "\n",
    "        ---\n",
    "        My love - I am called to England on affairs of State, and\n",
    "        must leave you with your new maid.\n",
    "        ---\n",
    "        When you find\n",
    "        that, once\n",
    "        again, you long\n",
    "        to take your heart back\n",
    "        and be free -\n",
    "        if you\n",
    "        ever find\n",
    "        a moment,\n",
    "        spare a thought\n",
    "        for me\n",
    "\n",
    "\n",
    "        ---\n",
    "        Think of all the things\n",
    "        we've shared and seen -\n",
    "        don't think about the things\n",
    "        which might have been . . .\n",
    "\n",
    "\n",
    "        ---\n",
    "        And what is it that I'm\n",
    "        meant to have sent?\n",
    "\n",
    "\n",
    "        ---\n",
    "        there will\n",
    "        never be\n",
    "        a day, when\n",
    "        I won't think\n",
    "        of you . .\n",
    "\n",
    "\n",
    "        ------------------------------------------\n",
    "\n",
    "\n",
    "        \"Gentlemen, I have now sent you several notes of the\n",
    "        most amiable nature, detailing how my theatre is to be\n",
    "        run.\n",
    "        ---\n",
    "        Think of all the things\n",
    "        we've shared and seen -\n",
    "        don't think about the things\n",
    "        which might have been . . .\n",
    "\n",
    "\n",
    "        ---\n",
    "        But too\n",
    "        many of her partners seem to be replicas of the\n",
    "        PHANTOM, and each spins her with increasing force.\n",
    "\n",
    "        ---\n",
    "        We never said\n",
    "        our love\n",
    "        was evergreen,\n",
    "        or as unchanging\n",
    "        as the sea -\n",
    "        but if\n",
    "        you can still\n",
    "        remember\n",
    "        stop and think\n",
    "        of me . . .\n",
    "\n",
    "\n",
    "        ---\n",
    "        Our workshops have\n",
    "        restored it and fitted up parts of it with wiring\n",
    "        for the new electric light, so that we may get a\n",
    "        hint of what it may look like when re-\n",
    "        assembled.\n",
    "        ---\n",
    "        If you could, find out which\n",
    "        has a sense of pitch -\n",
    "        wisely, though,\n",
    "        I've managed to assign a\n",
    "        rather minor role to those\n",
    "        who cannot act! \"\n",
    "\n",
    "\n",
    "        ---\n",
    "        And my managers\n",
    "        must learn\n",
    "        that their place is in\n",
    "        an office, not the arts.\n",
    "\n",
    "\n",
    "        ---\n",
    "        We have all been\n",
    "        blind - and yet the\n",
    "        answer is staring us\n",
    "        in the face . . .\n",
    "\n",
    "        ---\n",
    "        We never said\n",
    "        our love\n",
    "        was evergreen,\n",
    "        or as unchanging\n",
    "        as the sea -\n",
    "        but please\n",
    "        promise me,\n",
    "        that sometimes\n",
    "        you will think\n",
    "        of me!\n",
    "\n",
    "\n",
    "        ---\n",
    "        Those who speak\n",
    "        of what they know\n",
    "        find, too late, that prudent\n",
    "        silence is wise.\n",
    "\n",
    "        -----------------------------------\n",
    "\n",
    "**Improvisation show the emotional and social intelligence**\n",
    "\n",
    "\n",
    "        The role which Miss Daae plays\n",
    "        calls for charm and appeal.\n",
    "\n",
    "        ---\n",
    "        Let the dream begin,\n",
    "        let your darker side give in\n",
    "        to the power of the music that I write -\n",
    "        the power of the music of the night . . .\n",
    "\n",
    "\n",
    "        ---\n",
    "        But too\n",
    "        many of her partners seem to be replicas of the\n",
    "        PHANTOM, and each spins her with increasing force.\n",
    "\n",
    "        ---\n",
    "        And my managers\n",
    "        must learn\n",
    "        that their place is in\n",
    "        an office, not the arts.\n",
    "\n",
    "\n",
    "        ---\n",
    "        \"Gentlemen, I have now sent you several notes of the\n",
    "        most amiable nature, detailing how my theatre is to be\n",
    "        run.\n",
    "        ---\n",
    "        As the recitative\n",
    "        begins, the lights and music dim on stage, and our\n",
    "        attention turns to the MANAGERS in their box)\n",
    "\n",
    "        IN THE BOX\n",
    "\n",
    "        :\n",
    "        ---\n",
    "        He\n",
    "        whirls her back into the dance, as the music heads\n",
    "        towards its climax.)\n",
    "\n",
    "\n",
    "        ---\n",
    "        She has heard the voice\n",
    "        of the angel of music . . .\n",
    "\n",
    "\n",
    "        ---\n",
    "        Yet in his eyes\n",
    "        all the sadness\n",
    "        of the world . . .\n",
    "\n",
    "        ---\n",
    "        There is an enormous flash, and the OVERTURE\n",
    "        begins.\n",
    "        --------------------- \n",
    "\n"
   ]
  },
  {
   "cell_type": "code",
   "execution_count": null,
   "metadata": {
    "collapsed": true
   },
   "outputs": [],
   "source": []
  }
 ],
 "metadata": {
  "kernelspec": {
   "display_name": "Python 3",
   "language": "python",
   "name": "python3"
  },
  "language_info": {
   "codemirror_mode": {
    "name": "ipython",
    "version": 3
   },
   "file_extension": ".py",
   "mimetype": "text/x-python",
   "name": "python",
   "nbconvert_exporter": "python",
   "pygments_lexer": "ipython3",
   "version": "3.6.3"
  }
 },
 "nbformat": 4,
 "nbformat_minor": 2
}
