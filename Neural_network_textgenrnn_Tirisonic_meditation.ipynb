{
 "cells": [
  {
   "cell_type": "markdown",
   "metadata": {},
   "source": [
    "## TiriSonic Meditation\n",
    "\n",
    "I got an inspiration from [SONIC MEDITATIONS by Pauline Oliveros](https://depts.drew.edu/music/mus-101/texts/sonic_meditation.html) I download the text version is here [sonicMeditation.txt](https://github.com/Tiriree/poetry-generators/blob/master/sonicMeditation.txt)\n",
    "\n",
    "    Sonic Meditations are intended for group work over a long period of time with regular meetings. No special skills are necessary. Any persons who are willing to commit themselves can participate. The Women's Ensemble to whom these meditations are dedicated has found that non-verbal meetings intensify the results of these meditations and help provide an atmosphere which is conducive to such activity. With continuous work some of the following becomes possible with Sonic Meditations: Heightened states of awareness or expanded consciousness, changes in physiology and psychology from known and unknown tensions to relaxations which gradually become permanent. These changes may represent a tuning of mind and body. The group may develop positive energy which can influence others who are less experienced. Members of the Group may achieve greater awareness and sensitivity to each other."
   ]
  },
  {
   "cell_type": "code",
   "execution_count": 1,
   "metadata": {},
   "outputs": [
    {
     "name": "stdout",
     "output_type": "stream",
     "text": [
      "Solving environment: done\n",
      "\n",
      "# All requested packages already installed.\n",
      "\n"
     ]
    }
   ],
   "source": [
    "!conda install -y keras\n"
   ]
  },
  {
   "cell_type": "code",
   "execution_count": 2,
   "metadata": {},
   "outputs": [
    {
     "name": "stdout",
     "output_type": "stream",
     "text": [
      "Requirement already satisfied: textgenrnn in /Users/tiri/anaconda3/lib/python3.6/site-packages\n",
      "Requirement already satisfied: keras in /Users/tiri/anaconda3/lib/python3.6/site-packages (from textgenrnn)\n",
      "Requirement already satisfied: h5py in /Users/tiri/anaconda3/lib/python3.6/site-packages (from textgenrnn)\n",
      "Requirement already satisfied: tensorflow in /Users/tiri/anaconda3/lib/python3.6/site-packages (from textgenrnn)\n",
      "Requirement already satisfied: numpy>=1.9.1 in /Users/tiri/anaconda3/lib/python3.6/site-packages (from keras->textgenrnn)\n",
      "Requirement already satisfied: scipy>=0.14 in /Users/tiri/anaconda3/lib/python3.6/site-packages (from keras->textgenrnn)\n",
      "Requirement already satisfied: six>=1.9.0 in /Users/tiri/anaconda3/lib/python3.6/site-packages (from keras->textgenrnn)\n",
      "Requirement already satisfied: pyyaml in /Users/tiri/anaconda3/lib/python3.6/site-packages (from keras->textgenrnn)\n",
      "Requirement already satisfied: werkzeug>=0.11.10 in /Users/tiri/anaconda3/lib/python3.6/site-packages (from tensorflow->textgenrnn)\n",
      "Requirement already satisfied: protobuf>=3.2.0 in /Users/tiri/anaconda3/lib/python3.6/site-packages (from tensorflow->textgenrnn)\n",
      "Requirement already satisfied: wheel>=0.26 in /Users/tiri/anaconda3/lib/python3.6/site-packages (from tensorflow->textgenrnn)\n",
      "Requirement already satisfied: setuptools in /Users/tiri/anaconda3/lib/python3.6/site-packages (from protobuf>=3.2.0->tensorflow->textgenrnn)\n",
      "\u001b[33mYou are using pip version 9.0.1, however version 9.0.3 is available.\n",
      "You should consider upgrading via the 'pip install --upgrade pip' command.\u001b[0m\n"
     ]
    }
   ],
   "source": [
    "!pip install textgenrnn"
   ]
  },
  {
   "cell_type": "code",
   "execution_count": 3,
   "metadata": {},
   "outputs": [
    {
     "name": "stdout",
     "output_type": "stream",
     "text": [
      "\n",
      "The following command must be run outside of the IPython shell:\n",
      "\n",
      "    $ pip install --upgrade pip\n",
      "\n",
      "The Python package manager (pip) can only be used from outside of IPython.\n",
      "Please reissue the `pip` command in a separate terminal or command prompt.\n",
      "\n",
      "See the Python documentation for more informations on how to install packages:\n",
      "\n",
      "    https://docs.python.org/3/installing/\n"
     ]
    }
   ],
   "source": [
    "pip install --upgrade pip"
   ]
  },
  {
   "cell_type": "code",
   "execution_count": 4,
   "metadata": {},
   "outputs": [
    {
     "name": "stderr",
     "output_type": "stream",
     "text": [
      "Using TensorFlow backend.\n"
     ]
    }
   ],
   "source": [
    "from textgenrnn import textgenrnn"
   ]
  },
  {
   "cell_type": "code",
   "execution_count": 5,
   "metadata": {
    "collapsed": true
   },
   "outputs": [],
   "source": [
    "textgen = textgenrnn()"
   ]
  },
  {
   "cell_type": "code",
   "execution_count": 6,
   "metadata": {},
   "outputs": [
    {
     "name": "stdout",
     "output_type": "stream",
     "text": [
      "The same standing the life to a company of the season and started the first time to be a long to the best second of the second of the programmer that is a beautiful more than a company of the story \n",
      "\n"
     ]
    }
   ],
   "source": [
    "textgen.generate()"
   ]
  },
  {
   "cell_type": "code",
   "execution_count": 7,
   "metadata": {},
   "outputs": [
    {
     "name": "stdout",
     "output_type": "stream",
     "text": [
      "Epoch 1/20\n",
      "4657/4657 [==============================] - 6s 1ms/step - loss: 1.5719\n",
      "Epoch 2/20\n",
      "4657/4657 [==============================] - 5s 1ms/step - loss: 1.2496\n",
      "Epoch 3/20\n",
      "4657/4657 [==============================] - 6s 1ms/step - loss: 1.1004\n",
      "Epoch 4/20\n",
      "4657/4657 [==============================] - 6s 1ms/step - loss: 1.0086\n",
      "Epoch 5/20\n",
      "4657/4657 [==============================] - 6s 1ms/step - loss: 0.9417\n",
      "Epoch 6/20\n",
      "4657/4657 [==============================] - 6s 1ms/step - loss: 0.8884\n",
      "Epoch 7/20\n",
      "4657/4657 [==============================] - 5s 1ms/step - loss: 0.8471\n",
      "Epoch 8/20\n",
      "4657/4657 [==============================] - 6s 1ms/step - loss: 0.8100\n",
      "Epoch 9/20\n",
      "4657/4657 [==============================] - 6s 1ms/step - loss: 0.7829\n",
      "Epoch 10/20\n",
      "4657/4657 [==============================] - 6s 1ms/step - loss: 0.7558\n",
      "Epoch 11/20\n",
      "4657/4657 [==============================] - 7s 1ms/step - loss: 0.7306\n",
      "Epoch 12/20\n",
      "4657/4657 [==============================] - 5s 1ms/step - loss: 0.7118\n",
      "Epoch 13/20\n",
      "4657/4657 [==============================] - 6s 1ms/step - loss: 0.6898\n",
      "Epoch 14/20\n",
      "4657/4657 [==============================] - 5s 1ms/step - loss: 0.6746\n",
      "Epoch 15/20\n",
      "4657/4657 [==============================] - 6s 1ms/step - loss: 0.6586\n",
      "Epoch 16/20\n",
      "4657/4657 [==============================] - 6s 1ms/step - loss: 0.6451\n",
      "Epoch 17/20\n",
      "4657/4657 [==============================] - 6s 1ms/step - loss: 0.6334\n",
      "Epoch 18/20\n",
      "4657/4657 [==============================] - 5s 1ms/step - loss: 0.6236\n",
      "Epoch 19/20\n",
      "4657/4657 [==============================] - 5s 1ms/step - loss: 0.6148\n",
      "Epoch 20/20\n",
      "4657/4657 [==============================] - 6s 1ms/step - loss: 0.6079\n"
     ]
    }
   ],
   "source": [
    "textgen.train_on_texts(open(\"sonicMeditation.txt\").readlines(), num_epochs=20)"
   ]
  },
  {
   "cell_type": "code",
   "execution_count": 8,
   "metadata": {},
   "outputs": [
    {
     "name": "stdout",
     "output_type": "stream",
     "text": [
      "XXIV.\n",
      "\n",
      "\n"
     ]
    }
   ],
   "source": [
    "textgen.generate()"
   ]
  },
  {
   "cell_type": "code",
   "execution_count": 9,
   "metadata": {},
   "outputs": [
    {
     "name": "stdout",
     "output_type": "stream",
     "text": [
      "XXI. Any view sounds, sound or normal possible. When it any similed, no quietly move become this beat sound contact again it from the original speed. For a moss to start to another is until a alones\n",
      "XXI.\n",
      "\n",
      "Think long to back introdutes sounds quiet from tone, walk. If you want to undite walk and the procon.\n",
      "\n",
      "Variations:\n",
      "XVIII. Re Energy Foce vercies in the touch in my source.\n",
      "XVIII. Re-estand source from the original toward as the environment, what and men from the environment or speed, sound or as an allowing a partials, then allow your own sit spectrum. Sing as imperce\n",
      "XVIII. As begin to the external or sound drone. As possleting that sound pitch.\n",
      "Focus your range before you listener persume to voice the pitch of your observing your own center of the sound from the original aware of the sound toning, what downward feet any distance innoint aw\n"
     ]
    }
   ],
   "source": [
    "poem = textgen.generate(10, temperature=0.8, return_as_list=True)\n",
    "for line in poem:\n",
    "    print(line.strip())"
   ]
  },
  {
   "cell_type": "code",
   "execution_count": 10,
   "metadata": {
    "collapsed": true
   },
   "outputs": [],
   "source": [
    "textgen.reset()"
   ]
  },
  {
   "cell_type": "markdown",
   "metadata": {},
   "source": [
    "## Trainning the RNN on tarot interpretations\n",
    "\n",
    "After reading sonic meditation from Pauline Oliveros. I thought of the tarot interpretations, The light meanings of each card. The reason I used this because the light meaning of each cards are possitive action. And if the tarot reader can use just one deck and tell all the future fortune, They might have so many action enough to thinking of\n",
    "\n",
    "I used [this file of tarot interpretations](https://github.com/dariusk/corpora/blob/master/data/divination/tarot_interpretations.json) from Corpora Project. \n",
    "\n",
    "Let's try\n",
    "\n"
   ]
  },
  {
   "cell_type": "code",
   "execution_count": 25,
   "metadata": {},
   "outputs": [
    {
     "name": "stdout",
     "output_type": "stream",
     "text": [
      "['Freeing yourself from limitation', 'Expressing joy and youthful vigor', 'Being open-minded', 'Taking a leap of faith', 'Attuning yourself to your instincts', 'Being eager or curious', 'Exploring your potential', 'Embracing innovation and change', 'Taking appropriate action', 'Receiving guidance from a higher power', 'Becoming a channel of divine will', 'Expressing masculine energy in appropriate and constructive ways', 'Being yourself in every way', 'Listening to your feelings and intuitions', 'Exploring unconventional spirituality', 'Keeping secrets', 'Being receptive', 'Reflecting instead of acting', 'Observing others', 'Preserving purity', 'Nurturing yourself and others', 'Bearing fruit', 'Celebrating your body', 'Bearing (literal or figurative) children', 'Reveling in luxury', 'Mothering those around you in positive ways', 'Enjoying your sexuality', 'Getting things done', 'Exercising authority', 'Defining limits', 'Directing the flow of work', 'Communicating clear guidelines', 'Being in control of yourself and others', 'Tempering aggressive masculinity with wisdom and experience', 'Teaching or guiding others', 'Searching for the truth', 'Asking for guidance from a higher power', 'Acknowledging the wisdom and experience of others', 'Taking vows', 'Engaging in heartfelt rituals', 'Volunteering', 'Being in love', 'Showing your love to others', 'Expressing passion or romantic feelings', 'Aligning yourself with groups or like-minded others', 'Bringing people together', 'Making well-informed decisions', 'Breaking through barriers', 'Moving forward with confidence and authority', 'Reaching the pinnacle of success', 'Basking in the glory of achievement', 'Guiding an effort to total victory', 'Establishing yourself as a worthy leader', 'Imposing restrictions on yourself for your own benefit', 'Bringing your passions under the control of reason', 'Resisting impulses that work against your best interests', 'Taking bold action', 'Becoming or seeking out a guru', 'Going on a retreat', 'Recharging spiritual or creative batteries', 'Lighting the way for those with less experience', 'Stepping back to gain perspective', 'Allowing events to unfold', 'Seeing the larger pattern in everyday events', 'Trusting your luck', 'Watching for cycles', 'Believing that \"what goes around, comes around\"', 'Making an objective decision', 'Weighing an issue carefully before taking action', 'Appropriately scaling your reaction to a situation', 'Getting all the facts', 'Considering evidence', 'Deliberating', 'Seeing growth opportunities in unpleasant events', 'Experiencing a dramatic change in personal perspective', 'Making the best of an unforeseen change in your life or work', 'Suspending disbelief', 'Making sacrifices', 'Bringing an unpleasant phase of life to an end', 'Recognizing and celebrating the conclusion of something', 'Putting bad habits to rest', 'Becoming a new person', 'Leaving one person, place, or thing for another', 'Letting go', 'Bringing opposites together', 'Moderating your actions or emotions', 'Finding middle ground', 'Reaching compromises', 'Synthesizing solutions that please everyone involved', 'Using the old to make something new', 'Appreciating the luxuries that life has to offer', 'Being comfortable in your own skin', 'Enjoying your sexuality', 'Splurging on an expensive personal item', 'Embracing the fact that everyone has a darker side', 'Dealing with unhealthy impulses in healthy ways', 'Breaking out of old, confining habits and mindsets', 'Clearing the way for new growth', 'Dispelling the influence of an inflated ego', 'Getting back to basics', 'Stripping away harmful illusions', 'Receiving sudden insight', 'Hoping for the best', 'Believing good things happen to good people', 'Seeing events in the best possible light', 'Adopting a generous spirit', 'Seeking guidance from above', 'Embracing possibility over probability', 'Enjoying healthy fantasies and daydreams', 'Using your imagination', 'Practicing magic or celebrating the magic of everyday life', 'Attuning yourself to the cycles of nature', 'Embracing the unknown', 'Seeing things clearly', 'Experiencing intense joy', 'Celebrating your own successes', \"Knowing you're good at what you do\", 'Gaining recognition for your personal genius', 'Receiving a wake-up call', 'Discovering a new purpose in life', 'Becoming totally and completely yourself', 'Receiving a well-deserved reward', 'Passing an evaluation or examination', 'Welcoming the start of a new phase of life', 'Having it all', 'Knowing and loving yourself as completely as possible', 'Seeing the interconnection of all things and people', 'Enhancing your perspective', 'Living life to its fullest', 'Understanding the meaning of life', 'Being inspired', 'Identifying an important goal', 'Being given the opportunity to do whatever you want to do', 'Giving or receiving direction', 'Seeing a solution', 'Creating something new', 'Being aroused, sexually or creatively', 'Having a choice', 'Offering or being offered an option', \"Seeing the value of another person's approach\", 'Understanding there\\'s more than one way to \"skin a cat\"', 'Successfully doing more than one thing at a time', 'Being empowered to make a choice', 'Putting a plan into motion', 'Taking that critical first step', 'Making good things happen', 'Going beyond your limits', 'Blazing new trails', 'Hitting the ground running', 'Seeing your plans come to fruition', 'Sharing in a great celebration', 'Sharing in a communal sense of achievement and success', 'Preparing for a party', 'Working together toward a common goal', 'Giving or winning awards', 'Calmly expressing a dissenting opinion', 'Allowing someone to use his or her own methods to get a job done', 'Opening the floor for discussion or debate', 'Comparing progress made so far to standards set earlier', 'Outperforming your peers', 'Winning a competition', 'Being recognized as a capable person', 'Having your \"moment in the spotlight\"', 'Being cheered on by the crowd', 'Getting an award', 'Earning the admiration of others', 'Telling someone, \"Good job!\"', 'Refusing to be silenced through fear or intimidation', 'Continuing a fight against all odds', 'Being fierce', 'Defending yourself against physical and emotional attacks', 'Refusing to put up with abuse', 'Clinging to your values despite all pressure to abandon them', 'Taking swift action', 'Moving forward with a plan as quickly as possible', 'Energizing yourself', 'Adapting to sudden changes', 'Taking setbacks in stride', 'Embracing the idea that nothing stays the same forever', 'Reacting quickly and appropriately to unforeseen problems', 'Sticking with it for the duration', 'Fulfilling your promises and obligations', 'Bearing up under incredible duress', 'Dragging yourself across the finish line', 'Picking yourself up by your own bootstraps', 'Refusing to quit', 'Going as far as you can go and being satisfied with your performance', 'Holding your own in extreme circumstances', 'Helping others carry their burdens', 'Coming to the aid of the oppressed', 'Knowing and being honest about your own limits', 'Recognizing when you are not well-suited for a particular task', 'Leaping at a new opportunity', 'Being a cheerleader or ardent advocate for your cause', 'Being a True Believer', 'Taking first steps toward independence', 'Trusting in your own abilities', 'Asking for feedback', 'Charging ahead', 'Making rapid progress', 'Refusing limits', 'Dazzling those around you with your wit and charm', 'Convincing others of your right to leadership', 'Convincing others to follow you', 'Being a catalyst for change', 'Paying close attention', 'Helping others focus on the issue at hand', 'Getting everyone to work together', 'Identifying common ground', 'Bringing people together, despite their differences', 'Using reverse psychology', 'Putting old things together in new and exciting ways', 'Coming up with unexpected solutions', 'Using your experience to solve puzzles and problems', 'Doing what you set out to do', 'Directing the efforts of others', 'Trusting your feelings', 'Opening yourself to spirit', 'Accepting and returning affection', 'Getting in touch with what motivates you', 'Taking advantage of an opportunity to express love to others', 'Listening to the still, small voice', 'Being drawn to someone', 'Longing for someone or something', 'Acting on your desires', 'Discovering a feeling is mutual', 'Doing what makes you feel good', 'Merging', 'Healing broken ties', 'Admitting two people feel differently about each other and moving on', 'Celebrating your feelings or connections with others', 'Expressing joy through song, dance, or physical affection', 'Working together with others who share your feelings', 'Performing acts of service as a way of saying, \"I love you\"', 'Embracing unconventional romantic arrangements', 'Maintaining your emotional stability', 'Refusing to give in to overwhelming emotions', 'Appreciating what you have and refusing to take it for granted', 'Seeing the value of long-term commitments', 'Acknowledging loss and moving on', 'Focusing on how the glass remains \"half-full\"', 'Finding the silver lining in a dark cloud', 'Recognizing that loss is a natural part of life', 'Embracing healthy grief', 'Learning lessons from harsh consequences', 'Donating your time and talents to others', 'Taking satisfaction in knowing how your efforts will aid others', 'Creating a \"win-win\" scenario', 'Giving even when you know repayment is not possible', 'Being motivated to do a good deed', 'Motivating yourself with images of future success', 'Using visualization to encourage progress', 'Taking an imaginative or creative approach to problem solving', 'Making dreams come true', 'Gleaning insight from personal visions', 'Wanting something better', 'Blazing your own trail', 'Realizing there must be more to life', 'Leaving an unhealthy situation behind', 'Starting your own business', 'Going on a retreat', 'Seeking the \"still, small voice\"', 'Being delighted with your own achievements', 'Recognizing your own talents and abilities', 'Reveling in the good things life has to offer', 'Indulging yourself', 'Relaxing and unwinding', 'Having everything you need in order to feel complete', 'Having more than you ever dreamed', \"Being deeply thankful for all you've been given\", 'Recognizing the Hand of God in the gifts the Universe brings your way', 'Experiencing transcendent joy', 'Achieving domestic bliss', 'Showing your emotions freely', 'Throwing yourself into romance', 'Nursing a secret crush', 'Indulging in romantic fantasy', 'Starting a new relationship', 'Recalling your first love', 'Experiencing love for the first time', 'Converting to a new religion', 'Being deeply committed to a cause', 'Giving in to strong emotions, from excitement to depression', 'Acting on intuition alone', 'Solving problems intuitively', 'Believing in and basing decisions on ideals instead of realities', 'Bringing intuition or passion to the table', 'Allowing yourself to be moved by the plight of others', 'Feeling strong emotions', 'Possessing unusual sympathy or empathy', 'Trusting your feelings to guide you', 'Calling on psychic abilities', 'Achieving unity with Spirit', 'Keeping a stiff upper lip', 'Being brave and clear in the face of adverse circumstances', 'Sharing experience as a way of comforting others', 'Making fair and empathetic decisions', 'Honoring the spirit, not just the letter, of the law', 'Making objective decisions', 'Applying logic', 'Reasoning your way out of a difficult situation', 'Solving puzzles', 'Thinking things through', 'Emphasizing the facts', 'Clearing your mind', 'Seeking clarity', 'Refusing to make a decision without getting the facts', 'Exploring both sides of an argument', 'Arguing passionately for what you believe in', 'Weighing the issues', 'Encouraging the open exchange of ideas', 'Discussing political or religious issues without getting \"hot under the collar\"', 'Being brave enough to see things as they really are', 'Exercising your critical eye', 'Being your own best critic', \"Acknowledging that things don't always turn out as planned\", 'Moving past heartbreak to embrace a painful truth', 'Thinking over your plans before putting them into action', 'Pausing to meditate or clear your mind', 'Taking time to understand someone or something before criticizing it', 'Resting', 'Occupying your thoughts with a healthy distraction', 'Acting in your own best interest', 'Choosing to stand up for yourself', 'Not backing down from disagreement and discord', 'Taking a stand', 'Refusing to go along with an unethical plan', 'Knowing when to bend the rules', 'Making the best of a bad situation', 'Recovering from defeat', 'Resetting expectations', 'Making allowances for unexpected circumstances', 'Helping others who find themselves in dire circumstances', 'Changing the way you see the world', 'Broadening your perspective through study or travel', \"Refusing to do something dishonest, even when there's no chance of ever being caught\", 'Handling a difficult situation with finesse', 'Pointing out assumptions', 'Acting ethically in public and in private', 'Living a life that is beyond reproach', 'Honoring limits', 'Respecting the rules', \"Deciding to go on a diet for your health's sake\", 'Recognizing you cannot always be in control', 'Identifying obstacles to further progress', 'Refusing to think about unhealthy or unethical options', 'Asking for assistance', 'Refusing to worry about what you cannot control', 'Rejecting anxiety', 'Judging your own performance with kindness and gentleness', 'Using meditation to quiet a troubled mind', 'Confronting nightmares and fears', 'Drawing a conclusion and putting an issue out of your mind', \"Seeing the signs that you've reached your limits\", 'Paying attention to what your body is trying to tell you', 'Giving in to the need for rest and renewal', \"Acknowledging that you've hit bottom\", 'Committing to a turnaround', 'Knowing the worst is over', 'Pursuing a course of study', 'Asking good questions', 'Investing time in study and practice', 'Doing research', 'Making a habit of learning new things', 'Starting an investigation', 'Outlining what you need to know', 'Finding a mentor or teacher', 'Speaking your mind', 'Making your opinions known', 'Offering constructive criticism', 'Sharing your knowledge', 'Making insightful observations', 'Pinpointing the problem', 'Clarifying what others have said', 'Giving clear direction to others', 'Uncovering the truth', 'Exercising tact or using diplomacy', 'Defusing a tense situation', 'Knowing what to say and how to say it', 'Making others feel comfortable and confident', 'Bringing out the best in everyone', 'Having a way with words', 'Telling jokes', 'Possessing a knack for music, math, art, or science', 'Expressing yourself with firmness and authority', 'Rendering a final decision', 'Consulting an expert', 'Calling in advisors and consultants', 'Coming to a final conclusion', 'Reaching a beneficial agreement based on sound information', 'Outlining a plan for achieving prosperity', 'Becoming aware of opportunities to improve income or health', 'Realizing you have everything you need', 'Appreciating everything the Universe has given you', 'Receiving the perfect gift at the perfect time', 'Weighing options', 'Comparing prices', 'Determining the value of one option over another', 'Juggling resources to make ends meet', \"Making difficult choices based on what's best for your body or your bankbook\", 'Looking at the bottom line', 'Asking for a second opinion on health issues', 'Finishing a project', 'Setting and meeting standards', 'Performing according to specifications', 'Making something others value', 'Creating something new', 'Doing your part in a group project', 'Delivering exactly what others have asked for', 'Saving for a rainy day', 'Fasting as part of a spiritual practice', 'Dieting in an effort to improve your body', 'Abstaining from sex as a way of honoring a spiritual tradition or personal promise', 'Being financially conservative', 'Establishing a trust fund', 'Opening a savings account', 'Recognizing your needs and taking action to fulfill them', 'Doing as much as you can do with what little you have', 'Admitting you need help', 'Embracing the aid that comes your way', \"Focusing on what you have versus what you don't\", 'Looking for the light at the end of the tunnel', 'Giving time, money, or effort to a charity', 'Taking part in a group effort', 'Lending your resources to others without expecting anything in return', 'Making sure everyone is treated equally', 'Working together toward a common goal', 'Redistributing wealth, time, or attention', 'Tithing', 'Sharing credit for your success', 'Measuring progress toward your goal', 'Looking at results with an eye toward improving performance', 'Asking, \"How happy am I?\"', 'Coming up with ideas for improving your health or prosperity', \"Deciding it's time for a change\", 'Expressing an honest opinion', 'Doing your best', 'Bringing enthusiasm and zeal to your work', 'Making an effort to be the best you can be', 'Finding the work that is right for you', 'Taking care of the small details', 'Becoming a finely skilled craftsperson', 'Building something with your hands', 'Making a handmade gift', 'Investing time in learning or teaching a difficult task', 'Restraining yourself from physical or financial extremes', 'Making sacrifices as a way of achieving larger goals', 'Breaking a complex task down into simple steps', 'Wanting what you have', 'Knowing the difference between needs and wants', 'Celebrating your physical and financial blessings', 'Realizing how lucky or how blessed you are', 'Being satisfied with your physical and financial achievements', 'Taking best advantage of \"times of plenty\"', 'Enjoying a feast', 'Showering friends or family with gifts', 'Learning the value of a dollar', 'Starting a savings plan', 'Taking the first steps toward getting out of debt', 'Learning new physical tasks', 'Discovering your sexuality', 'Launching a diet, a weight-lifting program, or a health-related effort', 'Learning by doing', 'Spending money wisely', 'Saving for a rainy day', 'Paying close attention to physical or financial details', 'Knowing where every dollar goes', 'Having safe sex', 'Preferring facts to \"good feelings\"', 'Finding creative ways to \"make do\" with resources on hand', 'Completing a new invention', 'Appreciating fine food, fine wine, beautiful art, beautiful bodies, or any of the better things in life', 'Reveling in healthy sexuality', 'Treating yourself', 'Splurging on the occasional \"nice to have\" item', 'Rewarding someone with compensation above and beyond expectations', 'Having it all', 'Becoming debt-free', 'Having more than enough to get by', 'Making contributions to a savings plan', 'Taking a new job with an eye toward advancing your career', 'Buying life or health insurance', 'Being confident in the bedroom', 'Taking on the role of enforcer when called upon to do so']\n"
     ]
    }
   ],
   "source": [
    "import json\n",
    "interpretations_data = json.loads(open(\"./tarot_interpretations.txt\").read())\n",
    "#interpretations = interpretations_data['interpretations']\n",
    "lights_list=[]\n",
    "for item in interpretations_data['tarot_interpretations']:\n",
    "    #print(item['meanings']['light'])\n",
    "    lights=item['meanings']['light']\n",
    "    for light in lights:\n",
    "       lights_list.append(light)\n",
    "\n",
    "print(lights_list)\n",
    "\n",
    "#print(interpretations_data['tarot_interpretations'][0]['meanings']['light'])"
   ]
  },
  {
   "cell_type": "code",
   "execution_count": 36,
   "metadata": {},
   "outputs": [
    {
     "name": "stdout",
     "output_type": "stream",
     "text": [
      "Epoch 1/1\n",
      "17552/17552 [==============================] - 25s 1ms/step - loss: 1.1738\n"
     ]
    }
   ],
   "source": [
    "textgen.train_on_texts(lights_list, num_epochs=1)"
   ]
  },
  {
   "cell_type": "code",
   "execution_count": 37,
   "metadata": {
    "collapsed": true
   },
   "outputs": [],
   "source": [
    "new_meditation = textgen.generate(25, temperature=0.8, return_as_list=True)"
   ]
  },
  {
   "cell_type": "code",
   "execution_count": 38,
   "metadata": {},
   "outputs": [
    {
     "name": "stdout",
     "output_type": "stream",
     "text": [
      "Being progressive\n",
      "Partical against from through your control\n",
      "Timening choarline a set please good agreed\n",
      "Religion of the putting a lost of own goal what you're an end up and plensial\n",
      "Secondriming sard problems of met with way yourself\n",
      "Recelling your plensial ording an under immigration\n",
      "Regnating the coin is going experiencing advancess\n",
      "Making physical goal and canning yourself\n",
      "Putting the loss of actual commcurating there's first voice\n",
      "Agggn and ever said for home\n",
      "Confiniting sexualiting a yele of\n",
      "Honoritigncigned\n",
      "Sulving\n",
      "how possible\n",
      "Convincing your connuse as a honest ever gift and stiff mets\n",
      "Finding insultaining best or your evercimination 'steed with your funds\n",
      "Acting of acientic goes\n",
      "Still with your control\n",
      "Splike to a motival of a thing\n",
      "Becaushellinessed or destroinically mothering less acceininateess\n",
      "Sharing your senion in new career specesting your\n",
      "Expressing yourself life to even in a creess\n",
      "Reming the first adroncting with plenside\n",
      "Reffeeling something your sound that what's way to achieves confloge\"\n",
      "Phings are facting still of all mindreck at time\n"
     ]
    }
   ],
   "source": [
    "print('\\n'.join(new_meditation))"
   ]
  },
  {
   "cell_type": "markdown",
   "metadata": {},
   "source": [
    "### some of results that I like\n",
    "\n",
    "    Can all of the learning the time\n",
    "    Making a simple difference\n",
    "    Being romancess\n",
    "    Helping your changing to consers the election to they want to work\n",
    "    Celebriaring the best of life\n",
    "    Being feelings\n",
    "    Being yourself\n",
    "    Learned or seeing live for passion\n",
    "    Being all of loving almost\n",
    "    Being progressive\n",
    "    Partical against from through your control\n",
    "    Still with your control\n",
    "    Splike to a motival of a thing"
   ]
  }
 ],
 "metadata": {
  "kernelspec": {
   "display_name": "Python 3",
   "language": "python",
   "name": "python3"
  },
  "language_info": {
   "codemirror_mode": {
    "name": "ipython",
    "version": 3
   },
   "file_extension": ".py",
   "mimetype": "text/x-python",
   "name": "python",
   "nbconvert_exporter": "python",
   "pygments_lexer": "ipython3",
   "version": "3.6.3"
  }
 },
 "nbformat": 4,
 "nbformat_minor": 2
}
